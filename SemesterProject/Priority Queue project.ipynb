{
 "cells": [
  {
   "cell_type": "markdown",
   "metadata": {},
   "source": [
    "## Rence Flores\n",
    "## CPU Scheduling"
   ]
  },
  {
   "cell_type": "markdown",
   "metadata": {},
   "source": [
    "### Brief Overview\n",
    "#### Reading in  txt files with varying input size of processes\n",
    "        20, 50 , 100, 200, 500 , 1000 processes\n",
    "#### Using multiple queues to execetute (Multiple CPU executing processes)\n",
    "#### Having a majority of processes have the same priority vs spread amount\n",
    "#### average wait time of process in the queue\n"
   ]
  },
  {
   "cell_type": "code",
   "execution_count": 2,
   "metadata": {},
   "outputs": [],
   "source": [
    "class ProcessQ:\n",
    "    \n",
    "    class process:\n",
    "        def __init__(self, id, priority, ptime):\n",
    "            self.id = id\n",
    "            self.priority = priority\n",
    "            self.ptime = ptime     #process time\n",
    "            self.wtime = 0    #wait time\n",
    "        \n",
    "        def getprio(self):\n",
    "            return self.priority\n",
    "        \n",
    "        def getptime(self):\n",
    "            return self.ptime\n",
    "        \n",
    "        def addwtime(self,t):\n",
    "            self.wtime += t\n",
    "            \n",
    "        def getwtime(self):\n",
    "            return self.wtime\n",
    "        \n",
    "        def __str__(self):\n",
    "            return (\"id: {}, priority: {}, process time: {}\".format(self.id,self.priority,self.ptime))\n",
    "        \n",
    "            \n",
    "            \n",
    "    def __init__(self):\n",
    "        self.content = []\n",
    "        self.size = 0\n",
    "    \n",
    "    def isEmpty(self):\n",
    "        if self.size != 0:\n",
    "            return False\n",
    "        return True\n",
    "    \n",
    "    def add(self, id, priority, ptime):\n",
    "        \"\"\"\n",
    "        add into sorted order\n",
    "        if the priority is the same, it puts it after it\n",
    "        adjust PQ size\n",
    "        \"\"\"\n",
    "        proc_to_add = self.process(id,priority,ptime) #make it into a process\n",
    "        if self.size == 0:\n",
    "            self.content.append(proc_to_add)\n",
    "            self.size += 1\n",
    "            return\n",
    "        for x in self.content:\n",
    "            ind = self.content.index(x)   #get index of value that is being compared\n",
    "            if x.getprio() <= proc_to_add.getprio():\n",
    "                continue\n",
    "            self.content.insert(ind, proc_to_add)\n",
    "            self.size += 1\n",
    "            return\n",
    "        self.content.append(proc_to_add) #if at the end of the queue just add it\n",
    "        self.size += 1\n",
    "        #add processes in sorted order\n",
    "    \n",
    "    def remove(self):\n",
    "        \"\"\"\n",
    "        Remove the minimum value which is in the front of the list\n",
    "        adjust PQ size\n",
    "        return min value\n",
    "        \"\"\"\n",
    "        if self.isEmpty():\n",
    "            print(\"Empty\")\n",
    "            return\n",
    "        minval = self.content[0] #min value at front of the list\n",
    "        self.content.remove(minval)\n",
    "        self.size -= 1\n",
    "        return minval\n",
    "            "
   ]
  },
  {
   "cell_type": "markdown",
   "metadata": {},
   "source": [
    "### Creating the text files"
   ]
  },
  {
   "cell_type": "code",
   "execution_count": 3,
   "metadata": {},
   "outputs": [],
   "source": [
    "import random\n",
    "def createtxt(file_name,num_lines,r=True): #file name and #number of lines to add\n",
    "    #if random is False, have similar priority queues\n",
    "    f = open(file_name, \"w\")\n",
    "    pid = 100\n",
    "    for i in range(num_lines):\n",
    "        if r is True: #if want a spread out amount of priorities\n",
    "            #maximum priority number is num_lines\n",
    "            max_prio = num_lines * 2\n",
    "            priority = random.randrange(1,max_prio) #wide range of possible priorities\n",
    "            ptime = 2\n",
    "            f.write(\"{},{},{} \\n\".format(pid,priority,ptime))\n",
    "            pid += 1\n",
    "        else: #alot of the same priorities\n",
    "            max_prio = num_lines/(num_lines/5)  #forcing a small range of possible priorities\n",
    "            priority = random.randrange(1,max_prio)\n",
    "            ptime = 2\n",
    "            f.write(\"{},{},{} \\n\".format(pid,priority,ptime))\n",
    "            pid += 1\n",
    "    f.close()"
   ]
  },
  {
   "cell_type": "markdown",
   "metadata": {},
   "source": [
    "Kept the process time constant, for better comparison"
   ]
  },
  {
   "cell_type": "markdown",
   "metadata": {},
   "source": [
    "#### Text files with a wide range of priorities"
   ]
  },
  {
   "cell_type": "code",
   "execution_count": 4,
   "metadata": {},
   "outputs": [],
   "source": [
    "createtxt(\"R20process\",20)\n",
    "createtxt(\"R50process\",50)\n",
    "createtxt(\"R100process\",100)\n",
    "createtxt(\"R200process\",200)\n",
    "createtxt(\"R500process\",500)\n",
    "createtxt(\"R1000process\",1000)"
   ]
  },
  {
   "cell_type": "markdown",
   "metadata": {},
   "source": [
    "#### Text file with alot of duplicate priorities"
   ]
  },
  {
   "cell_type": "code",
   "execution_count": 5,
   "metadata": {},
   "outputs": [],
   "source": [
    "createtxt(\"CP20process\",20, False)\n",
    "createtxt(\"CP50process\",50, False)\n",
    "createtxt(\"CP100process\",100, False)\n",
    "createtxt(\"CP200process\",200, False)\n",
    "createtxt(\"CP500process\",500, False)\n",
    "createtxt(\"CP1000process\",1000, False)"
   ]
  },
  {
   "cell_type": "markdown",
   "metadata": {},
   "source": [
    "#### See how many duplicate priorities"
   ]
  },
  {
   "cell_type": "code",
   "execution_count": 6,
   "metadata": {},
   "outputs": [],
   "source": [
    "def count_dupl(filename):\n",
    "    with open(filename,\"r\") as f:\n",
    "        data = f.readlines()\n",
    "    print(filename)\n",
    "    if \"CP\" in filename:\n",
    "        print(\"Duplicate priorities\")\n",
    "    else:\n",
    "        print(\"Random Priorities\")\n",
    "    txt_list = []\n",
    "    for r in data:      #remove new line character\n",
    "        new = r.strip()\n",
    "        txt_list.append(new)\n",
    "    dupl_prio = {}\n",
    "    for txt in txt_list:\n",
    "        line = txt.split(',')\n",
    "        pid = line[0]\n",
    "        prio = line[1]\n",
    "        ptime = line[2]\n",
    "        if prio not in dupl_prio:\n",
    "            dupl_prio[prio] = 1\n",
    "        else:\n",
    "            dupl_prio[prio] += 1\n",
    "    print(dupl_prio)\n",
    "    dupl_count = 0\n",
    "    for k,v in dupl_prio.items():\n",
    "        if v > 1: \n",
    "            dupl_count += v #if v == 1 then it is the only process with that priority\n",
    "    total = len(txt_list)\n",
    "    print(\"Number of Processes: {}\".format(total))\n",
    "    print(\"Total amount of duplicates: {}\" .format(dupl_count))\n",
    "    perc = dupl_count/total *100\n",
    "    unique = 100 - perc\n",
    "    print(\"Percentage of duplicate priorities: {0:.2f}%\".format(perc))\n",
    "    print(\"Percentage of unique priorities: {0:.2f}%\\n\".format(unique))"
   ]
  },
  {
   "cell_type": "code",
   "execution_count": 7,
   "metadata": {},
   "outputs": [
    {
     "name": "stdout",
     "output_type": "stream",
     "text": [
      "R20process\n",
      "Random Priorities\n",
      "{'35': 3, '39': 2, '36': 1, '4': 1, '21': 2, '23': 2, '6': 1, '19': 1, '5': 1, '20': 1, '25': 1, '26': 1, '34': 1, '8': 1, '33': 1}\n",
      "Number of Processes: 20\n",
      "Total amount of duplicates: 9\n",
      "Percentage of duplicate priorities: 45.00%\n",
      "Percentage of unique priorities: 55.00%\n",
      "\n",
      "CP20process\n",
      "Duplicate priorities\n",
      "{'2': 6, '3': 4, '1': 6, '4': 4}\n",
      "Number of Processes: 20\n",
      "Total amount of duplicates: 20\n",
      "Percentage of duplicate priorities: 100.00%\n",
      "Percentage of unique priorities: 0.00%\n",
      "\n",
      "R200process\n",
      "Random Priorities\n",
      "{'261': 4, '216': 1, '56': 1, '290': 2, '286': 2, '184': 1, '355': 1, '254': 2, '331': 2, '284': 1, '246': 2, '199': 2, '301': 1, '183': 1, '165': 1, '36': 1, '182': 2, '353': 2, '368': 1, '37': 1, '371': 3, '219': 1, '393': 2, '379': 2, '136': 1, '342': 3, '374': 1, '253': 1, '75': 2, '66': 1, '32': 1, '63': 1, '292': 1, '270': 1, '242': 1, '122': 1, '170': 2, '198': 1, '352': 1, '117': 1, '350': 2, '47': 1, '82': 1, '283': 2, '256': 3, '396': 2, '76': 1, '388': 1, '163': 1, '120': 1, '176': 1, '243': 2, '215': 2, '111': 1, '334': 1, '178': 1, '186': 2, '244': 1, '189': 2, '266': 1, '9': 1, '88': 2, '108': 1, '17': 2, '152': 1, '60': 1, '317': 2, '185': 1, '71': 1, '258': 1, '357': 1, '280': 3, '247': 1, '381': 1, '80': 1, '65': 1, '398': 1, '73': 1, '121': 1, '41': 2, '145': 2, '392': 1, '309': 1, '34': 2, '333': 1, '101': 1, '102': 1, '358': 2, '153': 1, '89': 1, '94': 1, '387': 1, '143': 1, '345': 1, '84': 2, '20': 1, '341': 2, '104': 2, '294': 1, '146': 2, '288': 1, '131': 1, '287': 1, '174': 1, '169': 2, '166': 2, '300': 2, '21': 1, '142': 1, '135': 1, '13': 1, '81': 1, '72': 1, '196': 2, '226': 1, '35': 1, '265': 1, '360': 1, '138': 1, '195': 1, '257': 1, '361': 1, '343': 1, '78': 2, '118': 1, '399': 1, '48': 1, '28': 1, '390': 2, '279': 1, '314': 1, '201': 1, '276': 1, '98': 1, '211': 2, '130': 1, '126': 1, '147': 1, '148': 1, '220': 1, '85': 1, '335': 1, '375': 1, '5': 1, '232': 1, '150': 1, '159': 1, '315': 1, '275': 1, '297': 1, '213': 1, '30': 1}\n",
      "Number of Processes: 200\n",
      "Total amount of duplicates: 90\n",
      "Percentage of duplicate priorities: 45.00%\n",
      "Percentage of unique priorities: 55.00%\n",
      "\n",
      "CP200process\n",
      "Duplicate priorities\n",
      "{'2': 54, '3': 43, '1': 44, '4': 59}\n",
      "Number of Processes: 200\n",
      "Total amount of duplicates: 200\n",
      "Percentage of duplicate priorities: 100.00%\n",
      "Percentage of unique priorities: 0.00%\n",
      "\n"
     ]
    }
   ],
   "source": [
    "count_dupl(\"R20process\")\n",
    "count_dupl(\"CP20process\")\n",
    "count_dupl(\"R200process\")\n",
    "count_dupl(\"CP200process\")"
   ]
  },
  {
   "cell_type": "markdown",
   "metadata": {},
   "source": [
    "#### CPU Scheduling"
   ]
  },
  {
   "cell_type": "code",
   "execution_count": 8,
   "metadata": {},
   "outputs": [],
   "source": [
    "def wait_time_add(proc_list,time): # time is the process time of the process\n",
    "    \"\"\"\n",
    "    given a list of remaining processes\n",
    "    increment the remaning processes wait time based on the ptime of the process being processed\n",
    "    \"\"\"\n",
    "    for p in proc_list:\n",
    "        p.addwtime(time)"
   ]
  },
  {
   "cell_type": "code",
   "execution_count": 9,
   "metadata": {},
   "outputs": [],
   "source": [
    "def divider():\n",
    "    print(\"\\n------*****-----------\")"
   ]
  },
  {
   "cell_type": "markdown",
   "metadata": {},
   "source": [
    "### Using 1 Priority Queue"
   ]
  },
  {
   "cell_type": "code",
   "execution_count": 11,
   "metadata": {},
   "outputs": [],
   "source": [
    "def CPU_scheduling(filename,PQ):\n",
    "    with open(filename,\"r\") as f:\n",
    "        data = f.readlines()\n",
    "    if \"CP\" in filename:\n",
    "        print(\"\\nDuplicate priorities\")\n",
    "    else:\n",
    "        print(\"\\nRandom Priorities\")\n",
    "    txt_list = []\n",
    "    time_to_add = 0\n",
    "    total_wtime = 0 #need this to get avg wait time\n",
    "    for r in data:      #remove new line character\n",
    "        new = r.strip()\n",
    "        txt_list.append(new)\n",
    "    num_proc = len(txt_list)\n",
    "    print(\"{} Processes\".format(num_proc))\n",
    "    for txt in txt_list:\n",
    "        line = txt.split(\",\")\n",
    "        pid = line[0]\n",
    "        prio = line[1]\n",
    "        ptime = int(line[2]) #change to int to add later\n",
    "        PQ.add(pid,prio,ptime)\n",
    "    while not PQ.isEmpty():\n",
    "        proc = PQ.remove()\n",
    "        total_wtime += proc.getwtime()\n",
    "        #first process does not have a wait time\n",
    "        wait_time_add(PQ.content,proc.ptime)\n",
    "        time_to_add += proc.getptime()\n",
    "    lastproc = proc #after while loop the \"proc\" variable should be the last process\n",
    "    avg_wtime = (total_wtime / num_proc)\n",
    "    print(\"Average Wait time for process: {0:.2f}\".format(avg_wtime))\n",
    "    print(\"Wait time of last process: \", lastproc.getwtime())\n",
    "    return time_to_add"
   ]
  },
  {
   "cell_type": "markdown",
   "metadata": {},
   "source": [
    "Reading the text files."
   ]
  },
  {
   "cell_type": "markdown",
   "metadata": {},
   "source": [
    "Executing the procesess (Remove method) until the queue is empty"
   ]
  },
  {
   "cell_type": "markdown",
   "metadata": {},
   "source": [
    "Have a time variable where I increment by the process time keep track of elapsed time. Instead of having to wait the time for it to execute"
   ]
  },
  {
   "cell_type": "markdown",
   "metadata": {},
   "source": [
    "At each remove I adjust the wait time of the remaining processes"
   ]
  },
  {
   "cell_type": "code",
   "execution_count": 13,
   "metadata": {},
   "outputs": [],
   "source": [
    "def test(filename): \n",
    "    import time\n",
    "    PQ1 = ProcessQ()\n",
    "    #20, 50, 100, 200,500, 1000 input size files\n",
    "    \"\"\"\n",
    "    Total number of processes\n",
    "    The number of priority queues used\n",
    "    The time it took to finish all processes.\n",
    "    \"\"\"\n",
    "    start = time.time()\n",
    "    # run your code\n",
    "    #capture return of remove and get the time to finish and add to placeholder\n",
    "    #at the end add it to elapsed\n",
    "    toadd = CPU_scheduling(filename, PQ1) #calling the scheduling function\n",
    "    end = time.time()\n",
    "    elapsed = end - start\n",
    "    elapsed += toadd\n",
    "    print(\"Elapsed Time: \", elapsed)\n",
    "    print(time.strftime(\"%H:%M:%S\", time.gmtime(elapsed)))"
   ]
  },
  {
   "cell_type": "code",
   "execution_count": 14,
   "metadata": {},
   "outputs": [],
   "source": [
    "def runtest(funcname):\n",
    "    funcname(\"CP20process\")\n",
    "    funcname(\"R20process\")\n",
    "    divider()\n",
    "    funcname(\"CP50process\")\n",
    "    funcname(\"R50process\")\n",
    "    divider()\n",
    "    funcname(\"CP100process\")\n",
    "    funcname(\"R100process\")\n",
    "    divider()\n",
    "    funcname(\"CP500process\")\n",
    "    funcname(\"R500process\")\n",
    "    divider()\n",
    "    funcname(\"CP1000process\")\n",
    "    funcname(\"R1000process\")"
   ]
  },
  {
   "cell_type": "code",
   "execution_count": 15,
   "metadata": {},
   "outputs": [
    {
     "name": "stdout",
     "output_type": "stream",
     "text": [
      "\n",
      "Duplicate priorities\n",
      "20 Processes\n",
      "Average Wait time for process: 19.00\n",
      "Wait time of last process:  38\n",
      "Elapsed Time:  40.0\n",
      "00:00:40\n",
      "\n",
      "Random Priorities\n",
      "20 Processes\n",
      "Average Wait time for process: 19.00\n",
      "Wait time of last process:  38\n",
      "Elapsed Time:  40.00399708747864\n",
      "00:00:40\n",
      "\n",
      "------*****-----------\n",
      "\n",
      "Duplicate priorities\n",
      "50 Processes\n",
      "Average Wait time for process: 49.00\n",
      "Wait time of last process:  98\n",
      "Elapsed Time:  100.00399875640869\n",
      "00:01:40\n",
      "\n",
      "Random Priorities\n",
      "50 Processes\n",
      "Average Wait time for process: 49.00\n",
      "Wait time of last process:  98\n",
      "Elapsed Time:  100.00799822807312\n",
      "00:01:40\n",
      "\n",
      "------*****-----------\n",
      "\n",
      "Duplicate priorities\n",
      "100 Processes\n",
      "Average Wait time for process: 99.00\n",
      "Wait time of last process:  198\n",
      "Elapsed Time:  200.00799989700317\n",
      "00:03:20\n",
      "\n",
      "Random Priorities\n",
      "100 Processes\n",
      "Average Wait time for process: 99.00\n",
      "Wait time of last process:  198\n",
      "Elapsed Time:  200.01199746131897\n",
      "00:03:20\n",
      "\n",
      "------*****-----------\n",
      "\n",
      "Duplicate priorities\n",
      "500 Processes\n",
      "Average Wait time for process: 499.00\n",
      "Wait time of last process:  998\n",
      "Elapsed Time:  1000.2966225147247\n",
      "00:16:40\n",
      "\n",
      "Random Priorities\n",
      "500 Processes\n",
      "Average Wait time for process: 499.00\n",
      "Wait time of last process:  998\n",
      "Elapsed Time:  1000.2300696372986\n",
      "00:16:40\n",
      "\n",
      "------*****-----------\n",
      "\n",
      "Duplicate priorities\n",
      "1000 Processes\n",
      "Average Wait time for process: 999.00\n",
      "Wait time of last process:  1998\n",
      "Elapsed Time:  2001.9534347057343\n",
      "00:33:21\n",
      "\n",
      "Random Priorities\n",
      "1000 Processes\n",
      "Average Wait time for process: 999.00\n",
      "Wait time of last process:  1998\n",
      "Elapsed Time:  2001.4092683792114\n",
      "00:33:21\n"
     ]
    }
   ],
   "source": [
    "runtest(test)"
   ]
  },
  {
   "cell_type": "markdown",
   "metadata": {},
   "source": [
    "#### 40, 100, 200, 1000, 2000 elapsed time for both\n",
    "#### average wait time was almost half the elapsed time\n",
    "#### wait time of the last process is almost the elapsed time"
   ]
  },
  {
   "cell_type": "markdown",
   "metadata": {},
   "source": [
    "### Using 2 Priority Queues"
   ]
  },
  {
   "cell_type": "code",
   "execution_count": 16,
   "metadata": {},
   "outputs": [],
   "source": [
    "def CPU_scheduling2(filename,PQ,PQ2):\n",
    "    with open(filename,\"r\") as f:\n",
    "        data = f.readlines()\n",
    "    if \"CP\" in filename:\n",
    "        print(\"\\nDuplicate priorities\")\n",
    "    else:\n",
    "        print(\"\\nRandom Priorities\")\n",
    "    txt_list = []\n",
    "    time_to_add = 0\n",
    "    for r in data:      #remove new line character\n",
    "        new = r.strip()\n",
    "        txt_list.append(new)\n",
    "    num_proc = len(txt_list)\n",
    "    print(\"{} Processes\".format(num_proc))\n",
    "    for txt in txt_list:\n",
    "        line = txt.split(\",\")\n",
    "        pid = line[0]\n",
    "        prio = line[1]\n",
    "        ptime = int(line[2]) #change to int to add later\n",
    "        ind = txt_list.index(txt)\n",
    "        if ind % 2 == 0:     #evens go to pq2 \n",
    "            PQ2.add(pid,prio,ptime)\n",
    "            continue\n",
    "        PQ.add(pid,prio,ptime) #odd go to pq1\n",
    "    total_wtime = 0\n",
    "    total_wtime2 = 0\n",
    "    PQ1s = PQ.size\n",
    "    PQ2s = PQ2.size\n",
    "    print(\"PQ1: {} \\nPQ2: {}\".format(PQ.size, PQ2.size))        \n",
    "    while not PQ.isEmpty() and not PQ2.isEmpty():\n",
    "        proc = PQ.remove()\n",
    "        total_wtime += proc.getwtime()\n",
    "        proc2 = PQ2.remove()\n",
    "        total_wtime2 += proc2.getwtime()\n",
    "        time_to_add += proc.getptime() #only need to add time from one queue cause removing concurrently\n",
    "        wait_time_add(PQ.content,proc.ptime)\n",
    "        wait_time_add(PQ2.content,proc2.ptime)\n",
    "    lastproc = proc #after while loop the \"proc\" variable should be the last process\n",
    "    lastproc2 = proc2\n",
    "    avg_wtime = (total_wtime / PQ1s)\n",
    "    print(\"Average Wait time for process: {0:.2f}\".format(avg_wtime))\n",
    "    print(\"Wait time of last process for PQ1: \", lastproc.getwtime())\n",
    "    #avg_wtime2 = (total_wtime / num_proc)\n",
    "    #print(\"Average Wait time for process: {0:.2f}\".format(avg_wtime2))\n",
    "    print(\"Wait time of last process for PQ2: \", lastproc2.getwtime())\n",
    "    return time_to_add"
   ]
  },
  {
   "cell_type": "code",
   "execution_count": 17,
   "metadata": {},
   "outputs": [],
   "source": [
    "def test2(filename): \n",
    "    import time\n",
    "    PQ1 = ProcessQ()\n",
    "    PQ2 = ProcessQ()\n",
    "    #20, 50, 100, 200,500, 1000 input size files\n",
    "    \"\"\"\n",
    "    Total number of processes\n",
    "    The number of priority queues used\n",
    "    The time it took to finish all processes.\n",
    "    \"\"\"\n",
    "    start = time.time()\n",
    "    # run your code\n",
    "    #capture return of remove and get the time of node and add to placeholder\n",
    "    #at the end add it to elapsed\n",
    "    toadd = CPU_scheduling2(filename, PQ1,PQ2) #calling the scheduling function\n",
    "    end = time.time()\n",
    "    elapsed = end - start\n",
    "    elapsed += toadd\n",
    "    print(\"Elapsed Time: \", elapsed)\n",
    "    print(time.strftime(\"%H:%M:%S\", time.gmtime(elapsed)))"
   ]
  },
  {
   "cell_type": "code",
   "execution_count": 18,
   "metadata": {},
   "outputs": [
    {
     "name": "stdout",
     "output_type": "stream",
     "text": [
      "\n",
      "Duplicate priorities\n",
      "20 Processes\n",
      "PQ1: 10 \n",
      "PQ2: 10\n",
      "Average Wait time for process: 9.00\n",
      "Wait time of last process for PQ1:  18\n",
      "Wait time of last process for PQ2:  18\n",
      "Elapsed Time:  20.00399684906006\n",
      "00:00:20\n",
      "\n",
      "Random Priorities\n",
      "20 Processes\n",
      "PQ1: 10 \n",
      "PQ2: 10\n",
      "Average Wait time for process: 9.00\n",
      "Wait time of last process for PQ1:  18\n",
      "Wait time of last process for PQ2:  18\n",
      "Elapsed Time:  20.00400137901306\n",
      "00:00:20\n",
      "\n",
      "------*****-----------\n",
      "\n",
      "Duplicate priorities\n",
      "50 Processes\n",
      "PQ1: 25 \n",
      "PQ2: 25\n",
      "Average Wait time for process: 24.00\n",
      "Wait time of last process for PQ1:  48\n",
      "Wait time of last process for PQ2:  48\n",
      "Elapsed Time:  50.0\n",
      "00:00:50\n",
      "\n",
      "Random Priorities\n",
      "50 Processes\n",
      "PQ1: 25 \n",
      "PQ2: 25\n",
      "Average Wait time for process: 24.00\n",
      "Wait time of last process for PQ1:  48\n",
      "Wait time of last process for PQ2:  48\n",
      "Elapsed Time:  50.0\n",
      "00:00:50\n",
      "\n",
      "------*****-----------\n",
      "\n",
      "Duplicate priorities\n",
      "100 Processes\n",
      "PQ1: 50 \n",
      "PQ2: 50\n",
      "Average Wait time for process: 49.00\n",
      "Wait time of last process for PQ1:  98\n",
      "Wait time of last process for PQ2:  98\n",
      "Elapsed Time:  100.00799751281738\n",
      "00:01:40\n",
      "\n",
      "Random Priorities\n",
      "100 Processes\n",
      "PQ1: 50 \n",
      "PQ2: 50\n",
      "Average Wait time for process: 49.00\n",
      "Wait time of last process for PQ1:  98\n",
      "Wait time of last process for PQ2:  98\n",
      "Elapsed Time:  100.00399875640869\n",
      "00:01:40\n",
      "\n",
      "------*****-----------\n",
      "\n",
      "Duplicate priorities\n",
      "500 Processes\n",
      "PQ1: 250 \n",
      "PQ2: 250\n",
      "Average Wait time for process: 249.00\n",
      "Wait time of last process for PQ1:  498\n",
      "Wait time of last process for PQ2:  498\n",
      "Elapsed Time:  500.1084451675415\n",
      "00:08:20\n",
      "\n",
      "Random Priorities\n",
      "500 Processes\n",
      "PQ1: 250 \n",
      "PQ2: 250\n",
      "Average Wait time for process: 249.00\n",
      "Wait time of last process for PQ1:  498\n",
      "Wait time of last process for PQ2:  498\n",
      "Elapsed Time:  500.08043026924133\n",
      "00:08:20\n",
      "\n",
      "------*****-----------\n",
      "\n",
      "Duplicate priorities\n",
      "1000 Processes\n",
      "PQ1: 500 \n",
      "PQ2: 500\n",
      "Average Wait time for process: 499.00\n",
      "Wait time of last process for PQ1:  998\n",
      "Wait time of last process for PQ2:  998\n",
      "Elapsed Time:  1000.7318165302277\n",
      "00:16:40\n",
      "\n",
      "Random Priorities\n",
      "1000 Processes\n",
      "PQ1: 500 \n",
      "PQ2: 500\n",
      "Average Wait time for process: 499.00\n",
      "Wait time of last process for PQ1:  998\n",
      "Wait time of last process for PQ2:  998\n",
      "Elapsed Time:  1000.7035939693451\n",
      "00:16:40\n"
     ]
    }
   ],
   "source": [
    "runtest(test2)"
   ]
  },
  {
   "cell_type": "markdown",
   "metadata": {},
   "source": [
    "#### 1 Queue - 40, 100, 200, 1000, 2000 elapsed time for both\n",
    "#### 2 Queue - 20, 50, 100, 500, 1000 elapsed time for both\n",
    "each queue had half the number of processes\n",
    "#### average wait time was almost half the elapsed time\n",
    "#### wait time of the last process is almost the elapsed time"
   ]
  },
  {
   "cell_type": "markdown",
   "metadata": {},
   "source": [
    "### Using 3 Priority Queues"
   ]
  },
  {
   "cell_type": "code",
   "execution_count": null,
   "metadata": {},
   "outputs": [],
   "source": [
    "def CPU_scheduling3(filename,PQ,PQ2,PQ3):\n",
    "    with open(filename,\"r\") as f:\n",
    "        data = f.readlines()\n",
    "    if \"CP\" in filename:\n",
    "        print(\"\\nDuplicate priorities\")\n",
    "    else:\n",
    "        print(\"\\nRandom Priorities\")\n",
    "    txt_list = []\n",
    "    time_to_add = 0\n",
    "    for r in data:      #remove new line character\n",
    "        new = r.strip()\n",
    "        txt_list.append(new)\n",
    "    num_proc = len(txt_list)\n",
    "    print(\"{} Processes\".format(num_proc))\n",
    "    add1 = False #check flag to see if i added to the que already\n",
    "    add2 = False  #corresponds to PQ2\n",
    "    add3 = False  #corresponds to PQ3\n",
    "    for txt in txt_list:\n",
    "        line = txt.split(\",\")\n",
    "        pid = line[0]\n",
    "        prio = line[1]\n",
    "        ptime = int(line[2]) #change to int to add later\n",
    "        ind = txt_list.index(txt)\n",
    "        if not add1:     #evens go to pq2 \n",
    "            PQ.add(pid,prio,ptime)\n",
    "            add1 = True\n",
    "            continue\n",
    "        elif not add2:\n",
    "            PQ2.add(pid,prio,ptime)\n",
    "            add2 = True\n",
    "            continue        #divisible by 3 go to PQ3\n",
    "        else:\n",
    "            PQ3.add(pid,prio,ptime) #evertything else go to PQ3\n",
    "            add1 = False     #set to false again so it takes turn putting to que\n",
    "            add2 = False\n",
    "            add3 = False\n",
    "    PQ1s = PQ.size\n",
    "    PQ2s = PQ2.size\n",
    "    PQ3s = PQ3.size\n",
    "    print(\"PQ1: {} \\nPQ2: {} \\nPQ3: {}\".format(PQ.size, PQ2.size, PQ3.size))\n",
    "    total_wtime = 0\n",
    "    total_wtime2 = 0\n",
    "    total_wtime3 = 0\n",
    "    while not PQ.isEmpty():\n",
    "        proc = PQ.remove()\n",
    "        time_to_add += proc.getptime() #only need to add time from one queue cause removing concurrently\n",
    "        total_wtime += proc.getwtime()\n",
    "        wait_time_add(PQ.content,proc.ptime)\n",
    "    while not PQ2.isEmpty():\n",
    "        proc2 = PQ2.remove()\n",
    "        total_wtime2 += proc2.getwtime()\n",
    "        wait_time_add(PQ2.content,proc2.ptime)\n",
    "    while not PQ3.isEmpty():\n",
    "        proc3 = PQ3.remove()\n",
    "        total_wtime3 += proc3.getwtime()\n",
    "        wait_time_add(PQ3.content,proc3.ptime)\n",
    "    lastproc = proc #after while loop the \"proc\" variable should be the last process\n",
    "    lastproc2 = proc2\n",
    "    lastproc3 = proc3\n",
    "    avg_wtime = (total_wtime / PQ1s)\n",
    "    avg_wtime2 = (total_wtime2 / PQ2s)\n",
    "    avg_wtime3 = (total_wtime3 / PQ3s)\n",
    "    print(\"Average Wait time for process: {0:.2f}\".format(avg_wtime))\n",
    "    print(\"Wait time of last process for PQ1: \", lastproc.getwtime())\n",
    "    print(\"\\nAverage Wait time for process: {0:.2f}\".format(avg_wtime2))\n",
    "    print(\"Wait time of last process for PQ2: \", lastproc2.getwtime())\n",
    "    print(\"\\nAverage Wait time for process: {0:.2f}\".format(avg_wtime3))\n",
    "    print(\"Wait time of last process for PQ3: \", lastproc3.getwtime())\n",
    "    #perc = (lastproc3.getwtime() / time_to_add) * 100\n",
    "    #print(\"Percentageof time spent in que: {}\".format(perc))\n",
    "    return time_to_add"
   ]
  },
  {
   "cell_type": "code",
   "execution_count": null,
   "metadata": {},
   "outputs": [],
   "source": [
    "def test3(filename): \n",
    "    import time\n",
    "    PQ1 = ProcessQ()\n",
    "    PQ2 = ProcessQ()\n",
    "    PQ3 = ProcessQ()\n",
    "    #20, 50, 100, 200,500, 1000 input size files\n",
    "    \"\"\"\n",
    "    Total number of processes\n",
    "    The number of priority queues used\n",
    "    The time it took to finish all processes.\n",
    "    \"\"\"\n",
    "    start = time.time()\n",
    "    # run your code\n",
    "    #capture return of remove and get the time of node and add to placeholder\n",
    "    #at the end add it to elapsed\n",
    "    toadd = CPU_scheduling3(filename, PQ1,PQ2,PQ3) #calling the scheduling function\n",
    "    end = time.time()\n",
    "    elapsed = end - start\n",
    "    elapsed += toadd\n",
    "    print(\"Elapsed Time: \", elapsed)\n",
    "    print(time.strftime(\"%H:%M:%S\", time.gmtime(elapsed)))"
   ]
  },
  {
   "cell_type": "code",
   "execution_count": null,
   "metadata": {},
   "outputs": [],
   "source": [
    "runtest(test3)"
   ]
  },
  {
   "cell_type": "markdown",
   "metadata": {},
   "source": [
    "#### 1 Queue - 40, 100, 200, 1000, 2000 elapsed time for both\n",
    "#### 2 Queue - 20, 50, 100, 500, 1000 elapsed time for both\n",
    "#### 3 Queue - 14, 34, 68, 334, 668 elapsed time for both\n",
    "#### average wait time was almost half the elapsed time\n",
    "#### wait time of the last process is almost the elapsed time"
   ]
  },
  {
   "cell_type": "markdown",
   "metadata": {},
   "source": [
    "### Conclusion"
   ]
  },
  {
   "cell_type": "markdown",
   "metadata": {},
   "source": [
    "Having processes with the same priorities did not affect the time it took to complete all of the scheduled process."
   ]
  },
  {
   "cell_type": "markdown",
   "metadata": {},
   "source": [
    "Adding multiple queues significantly improved the time it took to complete all of the processes. As a result it decrease the average wait time of each process. Wait time of the last process is double the average."
   ]
  },
  {
   "cell_type": "markdown",
   "metadata": {},
   "source": [
    "There is an inverse relationship with time and amount of queue. As the number of queue increases the time required to process decreases."
   ]
  }
 ],
 "metadata": {
  "kernelspec": {
   "display_name": "Python 3",
   "language": "python",
   "name": "python3"
  },
  "language_info": {
   "codemirror_mode": {
    "name": "ipython",
    "version": 3
   },
   "file_extension": ".py",
   "mimetype": "text/x-python",
   "name": "python",
   "nbconvert_exporter": "python",
   "pygments_lexer": "ipython3",
   "version": "3.7.4"
  }
 },
 "nbformat": 4,
 "nbformat_minor": 2
}
